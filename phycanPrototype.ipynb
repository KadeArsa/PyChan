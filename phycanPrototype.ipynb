{
  "cells": [
    {
      "cell_type": "code",
      "execution_count": 20,
      "metadata": {
        "id": "kOHA_qjt66yK"
      },
      "outputs": [],
      "source": [
        "import pandas as pd\n",
        "import json\n",
        "import numpy as np\n",
        "import random\n",
        "\n",
        "import tensorflow as tf\n",
        "from tensorflow.keras.preprocessing.text import Tokenizer\n",
        "from tensorflow.keras.preprocessing.sequence import pad_sequences\n",
        "\n",
        "from googletrans import Translator\n",
        "translator = Translator()"
      ]
    },
    {
      "cell_type": "code",
      "execution_count": 8,
      "metadata": {
        "id": "WkHtZ4igJrKr"
      },
      "outputs": [],
      "source": [
        "path = './datasets/medical-related.json'\n",
        "with open(path,\"rb\") as file:\n",
        "    data = json.load(file)"
      ]
    },
    {
      "cell_type": "code",
      "execution_count": 9,
      "metadata": {
        "colab": {
          "base_uri": "https://localhost:8080/"
        },
        "id": "vU_6-E0OKfQ2",
        "outputId": "f2969a73-fc64-479a-80d2-eaf41b6bd4b6"
      },
      "outputs": [
        {
          "name": "stdout",
          "output_type": "stream",
          "text": [
            "246\n",
            "246\n",
            "['What to do if Cuts?', 'How to cure Cuts?', 'Which medicine to apply for Cuts?', 'what to apply on cuts?', 'Cuts', 'how do you treat abrasions?', 'Do Abrasions cause scars?', 'Abrasions', 'what to do if abrasions?']\n",
            "[['Wash the cut properly to prevent infection and stop the bleeding by applying pressure for 1-2minutes until bleeding stops. Apply Petroleum Jelly to make sure that the wound is moist for quick healing. Finally cover the cut with a sterile bandage. Pain relievers such as acetaminophen can be applied.'], ['Wash the cut properly to prevent infection and stop the bleeding by applying pressure for 1-2minutes until bleeding stops. Apply Petroleum Jelly to make sure that the wound is moist for quick healing. Finally cover the cut with a sterile bandage. Pain relievers such as acetaminophen can be applied.'], ['Wash the cut properly to prevent infection and stop the bleeding by applying pressure for 1-2minutes until bleeding stops. Apply Petroleum Jelly to make sure that the wound is moist for quick healing. Finally cover the cut with a sterile bandage. Pain relievers such as acetaminophen can be applied.'], ['Wash the cut properly to prevent infection and stop the bleeding by applying pressure for 1-2minutes until bleeding stops. Apply Petroleum Jelly to make sure that the wound is moist for quick healing. Finally cover the cut with a sterile bandage. Pain relievers such as acetaminophen can be applied.'], ['Wash the cut properly to prevent infection and stop the bleeding by applying pressure for 1-2minutes until bleeding stops. Apply Petroleum Jelly to make sure that the wound is moist for quick healing. Finally cover the cut with a sterile bandage. Pain relievers such as acetaminophen can be applied.'], ['Begin with washed hands.Gently clean the area with cool to lukewarm water and mild soap. Remove dirt or other particles from the wound using sterilized tweezers.For a mild scrape that’s not bleeding, leave the wound uncovered.If the wound is bleeding, use a clean cloth or bandage, and apply gentle pressure to the area to stop any bleeding.Cover a wound that bled with a thin layer of topical antibiotic ointment, like Bacitracin, or a sterile moisture barrier ointment, like Aquaphor. Cover it with a clean bandage or gauze. Gently clean the wound and change the ointment and bandage once per day.Watch the area for signs of infection, like pain or redness and swelling. See your doctor if you suspect infection.'], ['Begin with washed hands.Gently clean the area with cool to lukewarm water and mild soap. Remove dirt or other particles from the wound using sterilized tweezers.For a mild scrape that’s not bleeding, leave the wound uncovered.If the wound is bleeding, use a clean cloth or bandage, and apply gentle pressure to the area to stop any bleeding.Cover a wound that bled with a thin layer of topical antibiotic ointment, like Bacitracin, or a sterile moisture barrier ointment, like Aquaphor. Cover it with a clean bandage or gauze. Gently clean the wound and change the ointment and bandage once per day.Watch the area for signs of infection, like pain or redness and swelling. See your doctor if you suspect infection.'], ['Begin with washed hands.Gently clean the area with cool to lukewarm water and mild soap. Remove dirt or other particles from the wound using sterilized tweezers.For a mild scrape that’s not bleeding, leave the wound uncovered.If the wound is bleeding, use a clean cloth or bandage, and apply gentle pressure to the area to stop any bleeding.Cover a wound that bled with a thin layer of topical antibiotic ointment, like Bacitracin, or a sterile moisture barrier ointment, like Aquaphor. Cover it with a clean bandage or gauze. Gently clean the wound and change the ointment and bandage once per day.Watch the area for signs of infection, like pain or redness and swelling. See your doctor if you suspect infection.'], ['Begin with washed hands.Gently clean the area with cool to lukewarm water and mild soap. Remove dirt or other particles from the wound using sterilized tweezers.For a mild scrape that’s not bleeding, leave the wound uncovered.If the wound is bleeding, use a clean cloth or bandage, and apply gentle pressure to the area to stop any bleeding.Cover a wound that bled with a thin layer of topical antibiotic ointment, like Bacitracin, or a sterile moisture barrier ointment, like Aquaphor. Cover it with a clean bandage or gauze. Gently clean the wound and change the ointment and bandage once per day.Watch the area for signs of infection, like pain or redness and swelling. See your doctor if you suspect infection.']]\n"
          ]
        }
      ],
      "source": [
        "patterns = []\n",
        "responses = []\n",
        "for intent in data['intents']:\n",
        "    for pattern in intent['patterns']:\n",
        "        patterns.append(pattern)\n",
        "        responses.append(intent['responses'])\n",
        "\n",
        "print(len(patterns))\n",
        "print(len(responses))\n",
        "print(patterns[0:9])\n",
        "print(responses[0:9])"
      ]
    },
    {
      "cell_type": "code",
      "execution_count": 10,
      "metadata": {
        "colab": {
          "base_uri": "https://localhost:8080/",
          "height": 206
        },
        "id": "TTyiKaRfLMmf",
        "outputId": "cad8b155-5556-41c6-8c89-d019c8c316d9"
      },
      "outputs": [
        {
          "data": {
            "text/html": [
              "<div>\n",
              "<style scoped>\n",
              "    .dataframe tbody tr th:only-of-type {\n",
              "        vertical-align: middle;\n",
              "    }\n",
              "\n",
              "    .dataframe tbody tr th {\n",
              "        vertical-align: top;\n",
              "    }\n",
              "\n",
              "    .dataframe thead th {\n",
              "        text-align: right;\n",
              "    }\n",
              "</style>\n",
              "<table border=\"1\" class=\"dataframe\">\n",
              "  <thead>\n",
              "    <tr style=\"text-align: right;\">\n",
              "      <th></th>\n",
              "      <th>patterns</th>\n",
              "      <th>responses</th>\n",
              "    </tr>\n",
              "  </thead>\n",
              "  <tbody>\n",
              "    <tr>\n",
              "      <th>0</th>\n",
              "      <td>What to do if Cuts?</td>\n",
              "      <td>[Wash the cut properly to prevent infection an...</td>\n",
              "    </tr>\n",
              "    <tr>\n",
              "      <th>1</th>\n",
              "      <td>How to cure Cuts?</td>\n",
              "      <td>[Wash the cut properly to prevent infection an...</td>\n",
              "    </tr>\n",
              "    <tr>\n",
              "      <th>2</th>\n",
              "      <td>Which medicine to apply for Cuts?</td>\n",
              "      <td>[Wash the cut properly to prevent infection an...</td>\n",
              "    </tr>\n",
              "    <tr>\n",
              "      <th>3</th>\n",
              "      <td>what to apply on cuts?</td>\n",
              "      <td>[Wash the cut properly to prevent infection an...</td>\n",
              "    </tr>\n",
              "    <tr>\n",
              "      <th>4</th>\n",
              "      <td>Cuts</td>\n",
              "      <td>[Wash the cut properly to prevent infection an...</td>\n",
              "    </tr>\n",
              "  </tbody>\n",
              "</table>\n",
              "</div>"
            ],
            "text/plain": [
              "                            patterns  \\\n",
              "0                What to do if Cuts?   \n",
              "1                  How to cure Cuts?   \n",
              "2  Which medicine to apply for Cuts?   \n",
              "3             what to apply on cuts?   \n",
              "4                               Cuts   \n",
              "\n",
              "                                           responses  \n",
              "0  [Wash the cut properly to prevent infection an...  \n",
              "1  [Wash the cut properly to prevent infection an...  \n",
              "2  [Wash the cut properly to prevent infection an...  \n",
              "3  [Wash the cut properly to prevent infection an...  \n",
              "4  [Wash the cut properly to prevent infection an...  "
            ]
          },
          "execution_count": 10,
          "metadata": {},
          "output_type": "execute_result"
        }
      ],
      "source": [
        "dataDf = pd.DataFrame({'patterns': patterns, 'responses': responses})\n",
        "dataDf.head()"
      ]
    },
    {
      "cell_type": "code",
      "execution_count": 11,
      "metadata": {
        "id": "6Iqoj7E6LVbU"
      },
      "outputs": [],
      "source": [
        "\n",
        "def token_data(data):\n",
        "    tokenizer = Tokenizer()\n",
        "    tokenizer.fit_on_texts(data)\n",
        "    tokenized_data = tokenizer.texts_to_sequences(data)  \n",
        "    word_index = tokenizer.word_index  \n",
        "    max_leght = max([len(seq) for seq in tokenized_data]) \n",
        "    sequences = pad_sequences(tokenized_data, maxlen=max_leght, padding='post') \n",
        "    return sequences, word_index, max_leght"
      ]
    },
    {
      "cell_type": "code",
      "execution_count": 12,
      "metadata": {
        "colab": {
          "base_uri": "https://localhost:8080/"
        },
        "id": "-zwI1p8bNkww",
        "outputId": "4cb7b205-aaf7-4aa2-b8b0-8974395200e6"
      },
      "outputs": [
        {
          "name": "stdout",
          "output_type": "stream",
          "text": [
            "246\n",
            "246\n",
            "[[  8   1   3   5  36   0   0   0   0   0   0]\n",
            " [  2   1  13  36   0   0   0   0   0   0   0]\n",
            " [ 12  10   1  17  16  36   0   0   0   0   0]\n",
            " [  8   1  17  82  36   0   0   0   0   0   0]\n",
            " [ 36   0   0   0   0   0   0   0   0   0   0]\n",
            " [  2   3  11   9  31   0   0   0   0   0   0]\n",
            " [  3  31 115 116   0   0   0   0   0   0   0]\n",
            " [ 31   0   0   0   0   0   0   0   0   0   0]\n",
            " [  8   1   3   5  31   0   0   0   0   0   0]]\n",
            "[[8]\n",
            " [8]\n",
            " [8]\n",
            " [8]\n",
            " [8]\n",
            " [2]\n",
            " [2]\n",
            " [2]\n",
            " [2]]\n",
            "161\n",
            "55\n",
            "{'to': 1, 'how': 2, 'do': 3, 'a': 4, 'if': 5, 'i': 6, 'get': 7, 'what': 8, 'treat': 9, 'medicine': 10, 'you': 11, 'which': 12, 'cure': 13, 'take': 14, 'bite': 15, 'for': 16, 'apply': 17, 'pain': 18, 'bleeding': 19, 'have': 20, 'my': 21, 'burn': 22, 'is': 23, 'mild': 24, 'broken': 25, 'eyes': 26, 'heat': 27, 'skin': 28, 'eye': 29, 'care': 30, 'abrasions': 31, 'the': 32, 'nose': 33, 'poisoning': 34, 'itchy': 35, 'cuts': 36, 'strain': 37, 'pulled': 38, 'muscle': 39, 'cough': 40, 'injury': 41, 'in': 42, 'snake': 43, 'burns': 44, 'sunburn': 45, 'frostbite': 46, 'allergic': 47, 'hypothermia': 48, 'food': 49, 'itching': 50, 'sprain': 51, 'fever': 52, 'nasal': 53, 'congestion': 54, 'sore': 55, 'throat': 56, 'problems': 57, 'abdonominal': 58, 'toe': 59, 'diarrhea': 60, 'frost': 61, 'stroke': 62, 'insect': 63, 'got': 64, 'rectal': 65, 'sun': 66, 'testicle': 67, 'vertigo': 68, 'teeth': 69, 'seizure': 70, 'head': 71, 'headache': 72, 'cold': 73, 'drowning': 74, 'cpr': 75, 'fracture': 76, 'treatment': 77, 'blisters': 78, 'nosebleed': 79, 'are': 80, 'why': 81, 'on': 82, 'sting': 83, 'splinters': 84, 'gas': 85, 'allergy': 86, 'wound': 87, 'feel': 88, 'by': 89, 'an': 90, 'injured': 91, 'chemical': 92, 'rash': 93, 'dog': 94, 'someone': 95, 'person': 96, 'reaction': 97, 'best': 98, 'cream': 99, 'blocked': 100, 'bruises': 101, 'bruise': 102, 'choking': 103, 'exhaustion': 104, 'exhausted': 105, 'due': 106, 'poison': 107, 'faint': 108, 'fainting': 109, 'bit': 110, 'animal': 111, 'steps': 112, 'help': 113, 'reactions': 114, 'cause': 115, 'scars': 116, 'stings': 117, 'remove': 118, 'bring': 119, 'splinter': 120, 'surface': 121, 'diagnose': 122, 'or': 123, 'ice': 124, 'better': 125, 'long': 126, 'does': 127, 'last': 128, 'rid': 129, 'of': 130, 'gastrointestinal': 131, 'problem': 132, 'choke': 133, 'choked': 134, 'wounded': 135, 'bites': 136, 'me': 137, 'bitten': 138, 'bleed': 139, 'chemicals': 140, 'am': 141, 'poisoned': 142, 'like': 143, 'rashes': 144, 'monkey': 145, 'monekey': 146, 'drowned': 147, 'see': 148, 'give': 149, 'use': 150, 'form': 151, 'blister': 152, 'stop': 153, 'happens': 154, 'nosebleeds': 155, 'has': 156, 'prevent': 157, 'symptoms': 158, 'hurting': 159, 'relieve': 160, 'painful': 161}\n",
            "{'1)wash the wound with soap and warm water. 2)gently press a clean cloth over the wound to stop the flow of blood. 3)apply an antibacterial ointment to the wound. 4)cover with a sterile bandage. 5)watch for signs of infection. 6)seek help if you suspect infection or possible exposure to rabies, or if the wound is severe.': 1, 'begin with washed hands.gently clean the area with cool to lukewarm water and mild soap. remove dirt or other particles from the wound using sterilized tweezers.for a mild scrape that’s not bleeding, leave the wound uncovered.if the wound is bleeding, use a clean cloth or bandage, and apply gentle pressure to the area to stop any bleeding.cover a wound that bled with a thin layer of topical antibiotic ointment, like bacitracin, or a sterile moisture barrier ointment, like aquaphor. cover it with a clean bandage or gauze. gently clean the wound and change the ointment and bandage once per day.watch the area for signs of infection, like pain or redness and swelling. see your doctor if you suspect infection.': 2, 'rest,ice,compression and elevation can be used to cure strains. avoid using your muscle for a few days, especially if movement causes an increase in pain and also apply ice immediately after injuring your muscle. this will minimize swelling. don’t put ice directly on your skin. use an ice pack or wrap ice in a towel. to reduce swelling, wrap the affected area with an elastic bandage until swelling comes down.': 3, 'when you’re stuffed up, focus on keeping your nasal passages and sinuses moist. to keep your nasal passages moist, you can: 1)use a humidifier or vaporizer. 2)drink lots of fluids. this will thin out your mucus, which could help prevent blocked sinuses. 3)place a warm, wet towel on your face. it may relieve discomfort and open your nasal passages.': 4, 'cool the burn with cool (not cold) water for at least 10 minutes. cover the burn with a sterile, non-stick dressing or a clean cloth. do not apply butter, oils, or creams directly on the burn. over-the-counter pain relievers like ibuprofen or acetaminophen can help with pain. if the burn is severe, seek medical attention immediately.': 5, 'clean the itchy area with mild soap and water. avoid scratching to prevent further irritation. use calamine lotion or antihistamine cream to relieve itching. a cold compress on the itchy area can help reduce discomfort. if the itching persists or is accompanied by other symptoms, see a doctor.': 6, 'rest your eyes and avoid excessive screen time. use lubricating eye drops to keep your eyes moist. a warm compress can help relieve eye strain. if your eyes feel dry, use artificial tears. consult an eye doctor if the pain does not go away or is accompanied by other symptoms like blurred vision.': 7, 'wash the cut properly to prevent infection and stop the bleeding by applying pressure for 1-2minutes until bleeding stops. apply petroleum jelly to make sure that the wound is moist for quick healing. finally cover the cut with a sterile bandage. pain relievers such as acetaminophen can be applied.': 8, '1) honey:- use honey to treat a cough, mix 2 teaspoons (tsp) with warm water or an herbal tea. drink this mixture once or twice a day. do not give honey to children under 1 year of age. 2) ginger:- brew up a soothing ginger tea by adding 20–40 grams (g) of fresh ginger slices to a cup of hot water. allow to steep for a few minutes before drinking. add honey or lemon juice to improve the taste and further soothe a cough. 3) fluids:- staying hydrated is vital for those with a cough or cold. research indicates that drinking liquids at room temperature can alleviate a cough, runny nose, and sneezing.': 9, 'while waiting for medical help: 1)move the person beyond striking distance of the snake. 2)have the person lie down with wound below the heart. 3)keep the person calm and at rest, remaining as still as possible to keep venom from spreading. 4)cover the wound with loose, sterile bandage. 5)remove any jewelry from the area that was bitten. 6)remove shoes if the leg or foot was bitten.': 10, 'wash the area gently with soap and water. cover the blister with a sterile bandage or dressing. if the blister pops, apply an antibiotic ointment to the area and cover it with a sterile dressing. do not remove the roof of the blister; let it heal naturally. pain relievers like acetaminophen can help with discomfort.': 11, 'cool the skin with a cool bath or a cold compress. apply aloe vera gel or a moisturizing lotion to soothe the skin. drink plenty of water to stay hydrated. over-the-counter pain relievers like ibuprofen can help with pain and inflammation. avoid sun exposure until the sunburn heals.': 12, 'move to a warm area immediately and remove any wet clothing. warm the frostbitten area using body heat or warm (not hot) water. do not rub the affected area. seek medical attention if the frostbite is severe or covers a large area.': 13, 'sit down and lean slightly forward. pinch the soft part of your nose with your thumb and forefinger, applying steady pressure for about 10 minutes. breathe through your mouth and avoid lying down. apply a cold compress to the bridge of the nose to help constrict blood vessels. seek medical help if the bleeding does not stop after 20 minutes.': 14, 'take an antihistamine like diphenhydramine (benadryl) to reduce symptoms. use a cool compress to soothe the skin. if you have difficulty breathing, use an epinephrine injector if prescribed and seek emergency medical care immediately.': 15, 'move the person to a warm environment. remove wet clothing and cover them with blankets. use warm, dry compresses on the neck, chest, or groin. avoid direct heat such as heating pads or hot water. seek medical help if the condition does not improve.': 16, 'stay hydrated by drinking plenty of fluids. rest as much as possible. avoid solid foods until vomiting and diarrhea have subsided. start with bland foods like toast, rice, or bananas once symptoms improve. seek medical help if symptoms are severe or persistent.': 17, 'wash your hands before touching your eyes. avoid rubbing your eyes to prevent further irritation. use a cold compress on the itchy eyes to reduce inflammation. antihistamine eye drops like ketotifen can help reduce itching. if allergies are the cause, avoid allergens that trigger symptoms. if symptoms persist, consult an eye doctor.': 18, 'remove any stingers immediately. some experts recommend scraping out the stinger with a credit card. applying ice to the site may provide some mild relief. apply ice for 20 minutes once every hour as needed. wrap the ice in a towel or keep a cloth between the ice and skin to keep from freezing the skin. taking an antihistamine such as diphenhydramine (benadryl) or a nonsedating one such as loratadine (claritin) will help with itching and swelling. take acetaminophen (tylenol) or ibuprofen (motrin)for pain relief as needed. wash the sting site with soap and water. placing hydrocortisone cream on the sting can help relieve redness, itching, and swelling.': 19, '1. soak it in epsom salts. dissolve a cup of the salts into a warm bath and soak whatever part of the body has the splinter. failing that, you can also put some of the salts onto a bandage pad and leave it covered for a day; this will eventually help bring the splinter to the surface. 2. vinegar or oil. another simple way to draw out that stubborn splinter is to soak the affected area in oil (olive or corn) or white vinegar. just pour some in a bowl and soak the area for around 20 to 30 minutes,': 20, \"use an ice pack or ice slush bath immediately for 15 to 20 minutes and repeat every two to three hours while you're awake. to help stop swelling, compress the ankle with an elastic bandage until the swelling stops. in most cases, pain relievers — such as ibuprofen (advil, motrin ib, others) or naproxen sodium (aleve, others) or acetaminophen (tylenol, others) are enough to manage the pain of a sprained ankle.\": 21, 'to treat a fever at home: 1)drink plenty of fluids to stay hydrated. 2)dress in lightweight clothing. 3)use a light blanket if you feel chilled, until the chills end. 4)take acetaminophen (tylenol, others) or ibuprofen (advil, motrin ib, others). 5) get medical help if the fever lasts more than five days in a row.': 22, '1) make sure you get plenty of rest and drink a lot of fluids. 2)inhale steam,run hot water in a sink.drape a towel over you to trap the steam, and have the person lean over the sink with the water running. tell him to breathe deeply through his mouth and nose for 5 to 10 minutes. repeat several times a day. 3)have him sip chicken broth or warm tea with honey. don’t give honey to a child under 12 months of age.': 23, '1) replenish body fluids 2)do not take antidiarrheal drugs or laxatives or pain medication, unless specified by a medical professional.3)taking antacids may help, per recommendation of a healthcare professional. 4)if prone to frequent heartburns, seek medical help. 5)taking meals that are not spicy regularly, can relieve ulcer pains. 6)seek medical help, if conditions persist or continue to worsen': 24, \"1)hydrocortisone cream. 2)ointments like calamine lotion. 3)antihistamines. 4)cold compresses. 5)oatmeal baths. 6)talk to your doctor about what's best for your specific rash.\": 25, '1)provide clear fluids to sip, such as water, broth, or fruit juice diluted with water. 2)serve bland foods, such as saltine crackers, plain bread, dry toast, rice, gelatin, or applesauce. 3)avoid spicy or greasy foods and caffeinated or carbonated drinks until 48 hours after all symptoms have gone away. ': 26, '1)ice the bruise with an ice pack wrapped in a towel. 2)leave it in place for 10 to 20 minutes. 3)repeat several times a day for a day or two as needed. 4)compress the bruised area if it is swelling, using an elastic bandage. ': 27, '1)to help decrease pain and swelling in a broken toe, elevate the foot, ice the injury, and stay off the foot. 2)depending on the severity of the fracture, the toe may need to be put back into place (reduced), and some compound toe fractures may require surgery.3) most broken toes heal without complications in six weeks.': 28, \"1)encourage them to keep coughing to try to clear the blockage. 2)ask them to try to spit out the object if it's in their mouth. 3)if coughing doesn't work, start back blows and abdonominal thrusts\": 29, '1)rinse the cut or wound with water and apply pressure with sterile gauze, a bandage, or a clean cloth. 2)if blood soaks through the bandage, place another bandage on top of the first and keep applying pressure. 3)raise the injured body part to slow bleeding. 4)when bleeding stops, cover the wound with a new, clean bandage.': 30, '1)hydrating the body is essential for recovering from diarrhea.this causes the body to lose electrolytes such as sodium and chloride. 2)it is highly recommended to avoid dairy products, as they may worsen diarrhea in some people. 3)however, if diarrhea lasts for more than 2 days, seek medical advice to avoid complications.': 31, \"1)get out of the cold. once you're in a warm space, remove wet clothes and wrap up in a warm blanket. 2) gently rewarm frostbitten areas. soak frostbitten fingers, toes or other extremities in warm water — 105 to 110 f (about 40 to 43 c). if a thermometer isn't available, test the water by placing an uninjured hand or elbow in it — it should feel very warm, not hot. soak for 20 to 30 minutes or until the skin becomes its normal color or loses its numbness. for the face or ears, apply a warm, wet washcloth. \": 32, '1)move the person out of the heat and into a shady or air-conditioned place. lay the person down and elevate the legs and feet slightly. remove tight or heavy clothing. have the person drink cool water or other nonalcoholic beverage without caffeine ': 33, \"1)cool the person's entire body by sponging or spraying cold water, and fan the person to help lower the person's body temperature. watch for signs of rapidly progressing heatstroke, such as seizure, unconsciousness for longer than a few seconds, and moderate to severe difficulty breathing. \": 34, '1) wash the affected area with soap and water. apply a cold compress (such as a flannel or cloth cooled with cold water) or an ice pack to any swelling for at least 10 minutes. raise or elevate the affected area if possible, as this can help reduce swelling. ': 35, '1) wash the affected area with soap and water. apply a cold compress (such as a flannel or cloth cooled with cold water) or an ice pack to any swelling for at least 10 minutes. raise or elevate the affected area if possible, as this can help reduce swelling ': 36, '1) apply ice for 10 to 15 minutes every 1 hour for the first day and every 3 to 4 hours after that. use ice for the first 3 days. after 3 days, either heat or ice may be helpful if you still have pain. rest the pulled muscle for at least a day. ': 37, '1) for minimal bleeding due to hemorrhoids or rectal fissures, physicians will usually direct home treatment with lots of water, ice packs and possibly over the counter ointments or suppositories to create movement in the bowels or to soften the stool. emergency treatment might include an iv in the case of dehydration. ': 38, '1) cool the skin, 2) drink water to prevent dehydration., 3) take a pain reliever such as ibuprofen (advil, motrin ib, others) to help with the discomfort and swelling of sunburn. ': 39, '1) for pain, take over-the-counter medication such as acetaminophen (tylenol) or ibuprofen (advil, motrin). for swelling, apply an ice pack to the scrotum. ': 40, '1) relieve or prevent dizziness. have the person lie down and rest, 2) keep the person safe. help the person avoid falls, 3) call a health care provider. any new signs and symptoms of vertigo should be checked by a health care provider.': 41, '1) first aid actions to manage external bleeding include applying direct pressure to the wound, maintaining the pressure using pads and bandages, and, raising the injured limb above the level of the heart if possible. ': 42, '1) do not rub the eye, 2)blink several times and allow tears to flush out the particle, 3) lift the upper eyelid over the lashes of your lower lid to let the eyelashes try to brush the particle out., 4) use eyewash, saline solution or running tap water to flush the eye out ': 43, \"1) rinsed with water · flush the area for at least 20 minutes. · as you flush the area, take off any clothing or jewellery that has the chemical on it ,2) don't use a strong stream of water, if possible., 3)don't try to neutralize the burn with acid or alkali. this could cause a chemical reaction that worsens the burn, 4) don't put antibiotic ointment on the burn. \": 44, '1) get to fresh air right away. call the toll-free poison help line (1-800-222-1222), which connects you to your local poison center, 2) take off any clothing the poison touched. rinse skin with running water for 15 to 20 minutes. call the toll-free poison help line (1-800-222-1222), which connects you to your local poison center.,3) if the person swallowed the wrong medicine or too much medicine: call poison help (1-800-222-1222), which connects you to your local poison center.,4) every poisoning is different. ': 45, \"1) lick the tooth clean if it's dirty, or rinse it in water. put it back into position (adult teeth only); never try to re-insert a baby tooth (see below) bite on a handkerchief to hold the tooth in place. go to see a dentist as an emergency \": 46, '1) stay calm and remain with the person, 2) if they have food or fluid in their mouth, roll them onto their side immediately, 3) place something soft under their head and loosen any tight clothing. ': 47, \"1) apply firm pressure to the wound with sterile gauze or a clean cloth. but don't apply direct pressure to the wound if you suspect a skull fracture. \": 48, \"1) lie down or sit down. to reduce the chance of fainting again, don't get up too quickly, 2) place your head between your knees if you sit down, 3)position the person on his or her back. if there are no injuries and the person is breathing, raise the person's legs above heart level — about 12 inches (30 centimeters) — if possible. loosen belts, collars or other constrictive clothing. \": 49, 'give ibuprofen (advil, motrin), aspirin, or acetaminophen (tylenol) for pain. avoid ibuprofen and other nsaids if the person has heart failure or kidney failure. do not give aspirin to a child under age 18.': 50, \"1)keeping hydrated is absolutely vital to help 'flush' out the cold, as well as to break down congestion and keep your throat lubricated. 2)vitamin c is extremely helpful when fighting infection, so at the first sign of a cold be sure to increase your intake by eating plenty of berries, citrus fruits, papayas, broccoli and red peppers which will help keep you protected. 3)when it comes to combating a cold,vitamin d is essential in helping to regulate immune response.\": 51, '1)olive oil helps in healing and promotes skin renewal given it is packed with vitamin e and antioxidants. it also soothes the skin and reduces itching. 2)baking soda is useful in drying skin rashes as also in relieving itching and inflammation. 3)aloe vera,thanks to its antibacterial, antifungal, anti-inflammatory and emollient properties, aloe vera is excellent for treating a number of skin ailments including rashes as also soothing the skin.': 52, \"1)place your ear next to the person's mouth and nose. do you feel air on your cheek? 2)look to see if the person's chest is moving.if the person is not breathing, check pulse. 3)check the person's pulse for 10 seconds.if there is no pulse, start cpr.\": 53, '1)for an adult or child, place the heel of one hand on the center of the chest at the nipple line. you can also push with one hand on top of the other. for an infant, place two fingers on the breastbone. 2)for an adult or child, press down at least 2 inches. make sure not to press on ribs. for an infant, press down about 1 and 1/2 inches. make sure not to press on the end of the breastbone. 3)do chest compressions only, at the rate of 100-120 per minute or more. let the chest rise completely between pushes. 4)check to see if the person has started breathing.': 54, \"1)stop any bleeding. apply pressure to the wound with a sterile bandage, a clean cloth or a clean piece of clothing. 2)immobilize the injured area. don't try to realign the bone or push a bone that's sticking out back in. if you've been trained in how to splint and professional help isn't readily available, apply a splint to the area above and below the fracture sites. padding the splints can help reduce discomfort. 3)apply ice packs to limit swelling and help relieve pain. don't apply ice directly to the skin. wrap the ice in a towel, piece of cloth or some other material. 4)treat for shock. if the person feels faint or is breathing in short, rapid breaths, lay the person down with the head slightly lower than the trunk and, if possible, elevate the legs.\": 55}\n",
            "11\n",
            "1\n"
          ]
        }
      ],
      "source": [
        "inputToken, wordIndexInput, maxInput = token_data(patterns)\n",
        "outputToken, wordIndexOutput, maxOutput = token_data(responses)\n",
        "\n",
        "print(len(inputToken))\n",
        "print(len(outputToken))\n",
        "print(inputToken[0:9])\n",
        "print(outputToken[0:9])\n",
        "\n",
        "print(len(wordIndexInput))\n",
        "print(len(wordIndexOutput))\n",
        "print(wordIndexInput)\n",
        "print(wordIndexOutput)\n",
        "\n",
        "print(maxInput)\n",
        "print(maxOutput)"
      ]
    },
    {
      "cell_type": "code",
      "execution_count": 13,
      "metadata": {
        "colab": {
          "base_uri": "https://localhost:8080/",
          "height": 321
        },
        "id": "WU1JNgTeT5pO",
        "outputId": "a44cba51-6dab-4934-f29d-923f95b611b7"
      },
      "outputs": [
        {
          "data": {
            "text/html": [
              "<pre style=\"white-space:pre;overflow-x:auto;line-height:normal;font-family:Menlo,'DejaVu Sans Mono',consolas,'Courier New',monospace\"><span style=\"font-weight: bold\">Model: \"sequential\"</span>\n",
              "</pre>\n"
            ],
            "text/plain": [
              "\u001b[1mModel: \"sequential\"\u001b[0m\n"
            ]
          },
          "metadata": {},
          "output_type": "display_data"
        },
        {
          "data": {
            "text/html": [
              "<pre style=\"white-space:pre;overflow-x:auto;line-height:normal;font-family:Menlo,'DejaVu Sans Mono',consolas,'Courier New',monospace\">┏━━━━━━━━━━━━━━━━━━━━━━━━━━━━━━━━━┳━━━━━━━━━━━━━━━━━━━━━━━━┳━━━━━━━━━━━━━━━┓\n",
              "┃<span style=\"font-weight: bold\"> Layer (type)                    </span>┃<span style=\"font-weight: bold\"> Output Shape           </span>┃<span style=\"font-weight: bold\">       Param # </span>┃\n",
              "┡━━━━━━━━━━━━━━━━━━━━━━━━━━━━━━━━━╇━━━━━━━━━━━━━━━━━━━━━━━━╇━━━━━━━━━━━━━━━┩\n",
              "│ embedding (<span style=\"color: #0087ff; text-decoration-color: #0087ff\">Embedding</span>)           │ (<span style=\"color: #00d7ff; text-decoration-color: #00d7ff\">None</span>, <span style=\"color: #00af00; text-decoration-color: #00af00\">11</span>, <span style=\"color: #00af00; text-decoration-color: #00af00\">64</span>)         │        <span style=\"color: #00af00; text-decoration-color: #00af00\">10,368</span> │\n",
              "├─────────────────────────────────┼────────────────────────┼───────────────┤\n",
              "│ bidirectional (<span style=\"color: #0087ff; text-decoration-color: #0087ff\">Bidirectional</span>)   │ (<span style=\"color: #00d7ff; text-decoration-color: #00d7ff\">None</span>, <span style=\"color: #00af00; text-decoration-color: #00af00\">11</span>, <span style=\"color: #00af00; text-decoration-color: #00af00\">128</span>)        │        <span style=\"color: #00af00; text-decoration-color: #00af00\">66,048</span> │\n",
              "├─────────────────────────────────┼────────────────────────┼───────────────┤\n",
              "│ lstm_1 (<span style=\"color: #0087ff; text-decoration-color: #0087ff\">LSTM</span>)                   │ (<span style=\"color: #00d7ff; text-decoration-color: #00d7ff\">None</span>, <span style=\"color: #00af00; text-decoration-color: #00af00\">32</span>)             │        <span style=\"color: #00af00; text-decoration-color: #00af00\">20,608</span> │\n",
              "├─────────────────────────────────┼────────────────────────┼───────────────┤\n",
              "│ flatten (<span style=\"color: #0087ff; text-decoration-color: #0087ff\">Flatten</span>)               │ (<span style=\"color: #00d7ff; text-decoration-color: #00d7ff\">None</span>, <span style=\"color: #00af00; text-decoration-color: #00af00\">32</span>)             │             <span style=\"color: #00af00; text-decoration-color: #00af00\">0</span> │\n",
              "├─────────────────────────────────┼────────────────────────┼───────────────┤\n",
              "│ dense (<span style=\"color: #0087ff; text-decoration-color: #0087ff\">Dense</span>)                   │ (<span style=\"color: #00d7ff; text-decoration-color: #00d7ff\">None</span>, <span style=\"color: #00af00; text-decoration-color: #00af00\">16</span>)             │           <span style=\"color: #00af00; text-decoration-color: #00af00\">528</span> │\n",
              "├─────────────────────────────────┼────────────────────────┼───────────────┤\n",
              "│ dense_1 (<span style=\"color: #0087ff; text-decoration-color: #0087ff\">Dense</span>)                 │ (<span style=\"color: #00d7ff; text-decoration-color: #00d7ff\">None</span>, <span style=\"color: #00af00; text-decoration-color: #00af00\">56</span>)             │           <span style=\"color: #00af00; text-decoration-color: #00af00\">952</span> │\n",
              "└─────────────────────────────────┴────────────────────────┴───────────────┘\n",
              "</pre>\n"
            ],
            "text/plain": [
              "┏━━━━━━━━━━━━━━━━━━━━━━━━━━━━━━━━━┳━━━━━━━━━━━━━━━━━━━━━━━━┳━━━━━━━━━━━━━━━┓\n",
              "┃\u001b[1m \u001b[0m\u001b[1mLayer (type)                   \u001b[0m\u001b[1m \u001b[0m┃\u001b[1m \u001b[0m\u001b[1mOutput Shape          \u001b[0m\u001b[1m \u001b[0m┃\u001b[1m \u001b[0m\u001b[1m      Param #\u001b[0m\u001b[1m \u001b[0m┃\n",
              "┡━━━━━━━━━━━━━━━━━━━━━━━━━━━━━━━━━╇━━━━━━━━━━━━━━━━━━━━━━━━╇━━━━━━━━━━━━━━━┩\n",
              "│ embedding (\u001b[38;5;33mEmbedding\u001b[0m)           │ (\u001b[38;5;45mNone\u001b[0m, \u001b[38;5;34m11\u001b[0m, \u001b[38;5;34m64\u001b[0m)         │        \u001b[38;5;34m10,368\u001b[0m │\n",
              "├─────────────────────────────────┼────────────────────────┼───────────────┤\n",
              "│ bidirectional (\u001b[38;5;33mBidirectional\u001b[0m)   │ (\u001b[38;5;45mNone\u001b[0m, \u001b[38;5;34m11\u001b[0m, \u001b[38;5;34m128\u001b[0m)        │        \u001b[38;5;34m66,048\u001b[0m │\n",
              "├─────────────────────────────────┼────────────────────────┼───────────────┤\n",
              "│ lstm_1 (\u001b[38;5;33mLSTM\u001b[0m)                   │ (\u001b[38;5;45mNone\u001b[0m, \u001b[38;5;34m32\u001b[0m)             │        \u001b[38;5;34m20,608\u001b[0m │\n",
              "├─────────────────────────────────┼────────────────────────┼───────────────┤\n",
              "│ flatten (\u001b[38;5;33mFlatten\u001b[0m)               │ (\u001b[38;5;45mNone\u001b[0m, \u001b[38;5;34m32\u001b[0m)             │             \u001b[38;5;34m0\u001b[0m │\n",
              "├─────────────────────────────────┼────────────────────────┼───────────────┤\n",
              "│ dense (\u001b[38;5;33mDense\u001b[0m)                   │ (\u001b[38;5;45mNone\u001b[0m, \u001b[38;5;34m16\u001b[0m)             │           \u001b[38;5;34m528\u001b[0m │\n",
              "├─────────────────────────────────┼────────────────────────┼───────────────┤\n",
              "│ dense_1 (\u001b[38;5;33mDense\u001b[0m)                 │ (\u001b[38;5;45mNone\u001b[0m, \u001b[38;5;34m56\u001b[0m)             │           \u001b[38;5;34m952\u001b[0m │\n",
              "└─────────────────────────────────┴────────────────────────┴───────────────┘\n"
            ]
          },
          "metadata": {},
          "output_type": "display_data"
        },
        {
          "data": {
            "text/html": [
              "<pre style=\"white-space:pre;overflow-x:auto;line-height:normal;font-family:Menlo,'DejaVu Sans Mono',consolas,'Courier New',monospace\"><span style=\"font-weight: bold\"> Total params: </span><span style=\"color: #00af00; text-decoration-color: #00af00\">98,504</span> (384.78 KB)\n",
              "</pre>\n"
            ],
            "text/plain": [
              "\u001b[1m Total params: \u001b[0m\u001b[38;5;34m98,504\u001b[0m (384.78 KB)\n"
            ]
          },
          "metadata": {},
          "output_type": "display_data"
        },
        {
          "data": {
            "text/html": [
              "<pre style=\"white-space:pre;overflow-x:auto;line-height:normal;font-family:Menlo,'DejaVu Sans Mono',consolas,'Courier New',monospace\"><span style=\"font-weight: bold\"> Trainable params: </span><span style=\"color: #00af00; text-decoration-color: #00af00\">98,504</span> (384.78 KB)\n",
              "</pre>\n"
            ],
            "text/plain": [
              "\u001b[1m Trainable params: \u001b[0m\u001b[38;5;34m98,504\u001b[0m (384.78 KB)\n"
            ]
          },
          "metadata": {},
          "output_type": "display_data"
        },
        {
          "data": {
            "text/html": [
              "<pre style=\"white-space:pre;overflow-x:auto;line-height:normal;font-family:Menlo,'DejaVu Sans Mono',consolas,'Courier New',monospace\"><span style=\"font-weight: bold\"> Non-trainable params: </span><span style=\"color: #00af00; text-decoration-color: #00af00\">0</span> (0.00 B)\n",
              "</pre>\n"
            ],
            "text/plain": [
              "\u001b[1m Non-trainable params: \u001b[0m\u001b[38;5;34m0\u001b[0m (0.00 B)\n"
            ]
          },
          "metadata": {},
          "output_type": "display_data"
        }
      ],
      "source": [
        "inputShape = inputToken.shape[1]\n",
        "outputShape = outputToken.shape[1]\n",
        "\n",
        "model = tf.keras.Sequential([\n",
        "        tf.keras.Input(shape=(inputShape,)),\n",
        "        tf.keras.layers.Embedding(len(wordIndexInput)+1,64),\n",
        "        tf.keras.layers.Bidirectional(tf.keras.layers.LSTM(64, return_sequences=True)),\n",
        "        tf.keras.layers.LSTM(32),\n",
        "        tf.keras.layers.Flatten(),\n",
        "        tf.keras.layers.Dense(16, activation='relu'),\n",
        "        tf.keras.layers.Dense(len(wordIndexOutput) + 1, activation='softmax')\n",
        "    ])\n",
        "model.summary()"
      ]
    },
    {
      "cell_type": "code",
      "execution_count": 16,
      "metadata": {
        "colab": {
          "base_uri": "https://localhost:8080/"
        },
        "id": "Pfd-3ELaU9yO",
        "outputId": "e265f3f9-a283-40a7-da4c-548230ae4d72"
      },
      "outputs": [
        {
          "name": "stdout",
          "output_type": "stream",
          "text": [
            "Epoch 1/100\n",
            "\u001b[1m8/8\u001b[0m \u001b[32m━━━━━━━━━━━━━━━━━━━━\u001b[0m\u001b[37m\u001b[0m \u001b[1m8s\u001b[0m 13ms/step - accuracy: 0.0128 - loss: 4.0264   \n",
            "Epoch 2/100\n",
            "\u001b[1m8/8\u001b[0m \u001b[32m━━━━━━━━━━━━━━━━━━━━\u001b[0m\u001b[37m\u001b[0m \u001b[1m0s\u001b[0m 10ms/step - accuracy: 0.0247 - loss: 4.0228\n",
            "Epoch 3/100\n",
            "\u001b[1m8/8\u001b[0m \u001b[32m━━━━━━━━━━━━━━━━━━━━\u001b[0m\u001b[37m\u001b[0m \u001b[1m0s\u001b[0m 9ms/step - accuracy: 0.0323 - loss: 4.0196\n",
            "Epoch 4/100\n",
            "\u001b[1m8/8\u001b[0m \u001b[32m━━━━━━━━━━━━━━━━━━━━\u001b[0m\u001b[37m\u001b[0m \u001b[1m0s\u001b[0m 9ms/step - accuracy: 0.0318 - loss: 4.0154\n",
            "Epoch 5/100\n",
            "\u001b[1m8/8\u001b[0m \u001b[32m━━━━━━━━━━━━━━━━━━━━\u001b[0m\u001b[37m\u001b[0m \u001b[1m0s\u001b[0m 9ms/step - accuracy: 0.0458 - loss: 4.0001\n",
            "Epoch 6/100\n",
            "\u001b[1m8/8\u001b[0m \u001b[32m━━━━━━━━━━━━━━━━━━━━\u001b[0m\u001b[37m\u001b[0m \u001b[1m0s\u001b[0m 10ms/step - accuracy: 0.0740 - loss: 3.9635\n",
            "Epoch 7/100\n",
            "\u001b[1m8/8\u001b[0m \u001b[32m━━━━━━━━━━━━━━━━━━━━\u001b[0m\u001b[37m\u001b[0m \u001b[1m0s\u001b[0m 10ms/step - accuracy: 0.0605 - loss: 3.8461\n",
            "Epoch 8/100\n",
            "\u001b[1m8/8\u001b[0m \u001b[32m━━━━━━━━━━━━━━━━━━━━\u001b[0m\u001b[37m\u001b[0m \u001b[1m0s\u001b[0m 12ms/step - accuracy: 0.0321 - loss: 3.7562   \n",
            "Epoch 9/100\n",
            "\u001b[1m8/8\u001b[0m \u001b[32m━━━━━━━━━━━━━━━━━━━━\u001b[0m\u001b[37m\u001b[0m \u001b[1m0s\u001b[0m 11ms/step - accuracy: 0.0600 - loss: 3.5886\n",
            "Epoch 10/100\n",
            "\u001b[1m8/8\u001b[0m \u001b[32m━━━━━━━━━━━━━━━━━━━━\u001b[0m\u001b[37m\u001b[0m \u001b[1m0s\u001b[0m 10ms/step - accuracy: 0.0800 - loss: 3.4566\n",
            "Epoch 11/100\n",
            "\u001b[1m8/8\u001b[0m \u001b[32m━━━━━━━━━━━━━━━━━━━━\u001b[0m\u001b[37m\u001b[0m \u001b[1m0s\u001b[0m 11ms/step - accuracy: 0.0996 - loss: 3.3267\n",
            "Epoch 12/100\n",
            "\u001b[1m8/8\u001b[0m \u001b[32m━━━━━━━━━━━━━━━━━━━━\u001b[0m\u001b[37m\u001b[0m \u001b[1m0s\u001b[0m 10ms/step - accuracy: 0.1204 - loss: 3.2091\n",
            "Epoch 13/100\n",
            "\u001b[1m8/8\u001b[0m \u001b[32m━━━━━━━━━━━━━━━━━━━━\u001b[0m\u001b[37m\u001b[0m \u001b[1m0s\u001b[0m 11ms/step - accuracy: 0.1446 - loss: 3.0999\n",
            "Epoch 14/100\n",
            "\u001b[1m8/8\u001b[0m \u001b[32m━━━━━━━━━━━━━━━━━━━━\u001b[0m\u001b[37m\u001b[0m \u001b[1m0s\u001b[0m 10ms/step - accuracy: 0.1405 - loss: 2.9233\n",
            "Epoch 15/100\n",
            "\u001b[1m8/8\u001b[0m \u001b[32m━━━━━━━━━━━━━━━━━━━━\u001b[0m\u001b[37m\u001b[0m \u001b[1m0s\u001b[0m 10ms/step - accuracy: 0.2054 - loss: 2.8775\n",
            "Epoch 16/100\n",
            "\u001b[1m8/8\u001b[0m \u001b[32m━━━━━━━━━━━━━━━━━━━━\u001b[0m\u001b[37m\u001b[0m \u001b[1m0s\u001b[0m 10ms/step - accuracy: 0.1688 - loss: 2.7921\n",
            "Epoch 17/100\n",
            "\u001b[1m8/8\u001b[0m \u001b[32m━━━━━━━━━━━━━━━━━━━━\u001b[0m\u001b[37m\u001b[0m \u001b[1m0s\u001b[0m 10ms/step - accuracy: 0.2459 - loss: 2.6521\n",
            "Epoch 18/100\n",
            "\u001b[1m8/8\u001b[0m \u001b[32m━━━━━━━━━━━━━━━━━━━━\u001b[0m\u001b[37m\u001b[0m \u001b[1m0s\u001b[0m 12ms/step - accuracy: 0.2745 - loss: 2.5189\n",
            "Epoch 19/100\n",
            "\u001b[1m8/8\u001b[0m \u001b[32m━━━━━━━━━━━━━━━━━━━━\u001b[0m\u001b[37m\u001b[0m \u001b[1m0s\u001b[0m 10ms/step - accuracy: 0.3687 - loss: 2.4528\n",
            "Epoch 20/100\n",
            "\u001b[1m8/8\u001b[0m \u001b[32m━━━━━━━━━━━━━━━━━━━━\u001b[0m\u001b[37m\u001b[0m \u001b[1m0s\u001b[0m 10ms/step - accuracy: 0.3864 - loss: 2.3587\n",
            "Epoch 21/100\n",
            "\u001b[1m8/8\u001b[0m \u001b[32m━━━━━━━━━━━━━━━━━━━━\u001b[0m\u001b[37m\u001b[0m \u001b[1m0s\u001b[0m 10ms/step - accuracy: 0.4457 - loss: 2.2448\n",
            "Epoch 22/100\n",
            "\u001b[1m8/8\u001b[0m \u001b[32m━━━━━━━━━━━━━━━━━━━━\u001b[0m\u001b[37m\u001b[0m \u001b[1m0s\u001b[0m 11ms/step - accuracy: 0.4441 - loss: 2.1734\n",
            "Epoch 23/100\n",
            "\u001b[1m8/8\u001b[0m \u001b[32m━━━━━━━━━━━━━━━━━━━━\u001b[0m\u001b[37m\u001b[0m \u001b[1m0s\u001b[0m 9ms/step - accuracy: 0.5081 - loss: 2.0911\n",
            "Epoch 24/100\n",
            "\u001b[1m8/8\u001b[0m \u001b[32m━━━━━━━━━━━━━━━━━━━━\u001b[0m\u001b[37m\u001b[0m \u001b[1m0s\u001b[0m 9ms/step - accuracy: 0.4659 - loss: 2.0170\n",
            "Epoch 25/100\n",
            "\u001b[1m8/8\u001b[0m \u001b[32m━━━━━━━━━━━━━━━━━━━━\u001b[0m\u001b[37m\u001b[0m \u001b[1m0s\u001b[0m 10ms/step - accuracy: 0.4457 - loss: 2.0342\n",
            "Epoch 26/100\n",
            "\u001b[1m8/8\u001b[0m \u001b[32m━━━━━━━━━━━━━━━━━━━━\u001b[0m\u001b[37m\u001b[0m \u001b[1m0s\u001b[0m 9ms/step - accuracy: 0.5824 - loss: 1.8350\n",
            "Epoch 27/100\n",
            "\u001b[1m8/8\u001b[0m \u001b[32m━━━━━━━━━━━━━━━━━━━━\u001b[0m\u001b[37m\u001b[0m \u001b[1m0s\u001b[0m 14ms/step - accuracy: 0.5919 - loss: 1.7760\n",
            "Epoch 28/100\n",
            "\u001b[1m8/8\u001b[0m \u001b[32m━━━━━━━━━━━━━━━━━━━━\u001b[0m\u001b[37m\u001b[0m \u001b[1m0s\u001b[0m 10ms/step - accuracy: 0.5818 - loss: 1.7324\n",
            "Epoch 29/100\n",
            "\u001b[1m8/8\u001b[0m \u001b[32m━━━━━━━━━━━━━━━━━━━━\u001b[0m\u001b[37m\u001b[0m \u001b[1m0s\u001b[0m 10ms/step - accuracy: 0.6324 - loss: 1.6401\n",
            "Epoch 30/100\n",
            "\u001b[1m8/8\u001b[0m \u001b[32m━━━━━━━━━━━━━━━━━━━━\u001b[0m\u001b[37m\u001b[0m \u001b[1m0s\u001b[0m 10ms/step - accuracy: 0.7004 - loss: 1.5768\n",
            "Epoch 31/100\n",
            "\u001b[1m8/8\u001b[0m \u001b[32m━━━━━━━━━━━━━━━━━━━━\u001b[0m\u001b[37m\u001b[0m \u001b[1m0s\u001b[0m 10ms/step - accuracy: 0.7458 - loss: 1.4777\n",
            "Epoch 32/100\n",
            "\u001b[1m8/8\u001b[0m \u001b[32m━━━━━━━━━━━━━━━━━━━━\u001b[0m\u001b[37m\u001b[0m \u001b[1m0s\u001b[0m 10ms/step - accuracy: 0.7034 - loss: 1.4493\n",
            "Epoch 33/100\n",
            "\u001b[1m8/8\u001b[0m \u001b[32m━━━━━━━━━━━━━━━━━━━━\u001b[0m\u001b[37m\u001b[0m \u001b[1m0s\u001b[0m 11ms/step - accuracy: 0.7362 - loss: 1.4312\n",
            "Epoch 34/100\n",
            "\u001b[1m8/8\u001b[0m \u001b[32m━━━━━━━━━━━━━━━━━━━━\u001b[0m\u001b[37m\u001b[0m \u001b[1m0s\u001b[0m 12ms/step - accuracy: 0.7498 - loss: 1.3579\n",
            "Epoch 35/100\n",
            "\u001b[1m8/8\u001b[0m \u001b[32m━━━━━━━━━━━━━━━━━━━━\u001b[0m\u001b[37m\u001b[0m \u001b[1m0s\u001b[0m 11ms/step - accuracy: 0.7673 - loss: 1.3288\n",
            "Epoch 36/100\n",
            "\u001b[1m8/8\u001b[0m \u001b[32m━━━━━━━━━━━━━━━━━━━━\u001b[0m\u001b[37m\u001b[0m \u001b[1m0s\u001b[0m 9ms/step - accuracy: 0.7343 - loss: 1.2654 \n",
            "Epoch 37/100\n",
            "\u001b[1m8/8\u001b[0m \u001b[32m━━━━━━━━━━━━━━━━━━━━\u001b[0m\u001b[37m\u001b[0m \u001b[1m0s\u001b[0m 12ms/step - accuracy: 0.8240 - loss: 1.2098\n",
            "Epoch 38/100\n",
            "\u001b[1m8/8\u001b[0m \u001b[32m━━━━━━━━━━━━━━━━━━━━\u001b[0m\u001b[37m\u001b[0m \u001b[1m0s\u001b[0m 12ms/step - accuracy: 0.8031 - loss: 1.2195\n",
            "Epoch 39/100\n",
            "\u001b[1m8/8\u001b[0m \u001b[32m━━━━━━━━━━━━━━━━━━━━\u001b[0m\u001b[37m\u001b[0m \u001b[1m0s\u001b[0m 11ms/step - accuracy: 0.8423 - loss: 1.1389\n",
            "Epoch 40/100\n",
            "\u001b[1m8/8\u001b[0m \u001b[32m━━━━━━━━━━━━━━━━━━━━\u001b[0m\u001b[37m\u001b[0m \u001b[1m0s\u001b[0m 12ms/step - accuracy: 0.8536 - loss: 1.0786\n",
            "Epoch 41/100\n",
            "\u001b[1m8/8\u001b[0m \u001b[32m━━━━━━━━━━━━━━━━━━━━\u001b[0m\u001b[37m\u001b[0m \u001b[1m0s\u001b[0m 11ms/step - accuracy: 0.8516 - loss: 1.0530\n",
            "Epoch 42/100\n",
            "\u001b[1m8/8\u001b[0m \u001b[32m━━━━━━━━━━━━━━━━━━━━\u001b[0m\u001b[37m\u001b[0m \u001b[1m0s\u001b[0m 12ms/step - accuracy: 0.8659 - loss: 1.0195\n",
            "Epoch 43/100\n",
            "\u001b[1m8/8\u001b[0m \u001b[32m━━━━━━━━━━━━━━━━━━━━\u001b[0m\u001b[37m\u001b[0m \u001b[1m0s\u001b[0m 10ms/step - accuracy: 0.9034 - loss: 0.9690\n",
            "Epoch 44/100\n",
            "\u001b[1m8/8\u001b[0m \u001b[32m━━━━━━━━━━━━━━━━━━━━\u001b[0m\u001b[37m\u001b[0m \u001b[1m0s\u001b[0m 11ms/step - accuracy: 0.8695 - loss: 0.9486\n",
            "Epoch 45/100\n",
            "\u001b[1m8/8\u001b[0m \u001b[32m━━━━━━━━━━━━━━━━━━━━\u001b[0m\u001b[37m\u001b[0m \u001b[1m0s\u001b[0m 11ms/step - accuracy: 0.8673 - loss: 0.9730\n",
            "Epoch 46/100\n",
            "\u001b[1m8/8\u001b[0m \u001b[32m━━━━━━━━━━━━━━━━━━━━\u001b[0m\u001b[37m\u001b[0m \u001b[1m0s\u001b[0m 11ms/step - accuracy: 0.8881 - loss: 0.9300\n",
            "Epoch 47/100\n",
            "\u001b[1m8/8\u001b[0m \u001b[32m━━━━━━━━━━━━━━━━━━━━\u001b[0m\u001b[37m\u001b[0m \u001b[1m0s\u001b[0m 11ms/step - accuracy: 0.8724 - loss: 0.9111\n",
            "Epoch 48/100\n",
            "\u001b[1m8/8\u001b[0m \u001b[32m━━━━━━━━━━━━━━━━━━━━\u001b[0m\u001b[37m\u001b[0m \u001b[1m0s\u001b[0m 10ms/step - accuracy: 0.8872 - loss: 0.8665\n",
            "Epoch 49/100\n",
            "\u001b[1m8/8\u001b[0m \u001b[32m━━━━━━━━━━━━━━━━━━━━\u001b[0m\u001b[37m\u001b[0m \u001b[1m0s\u001b[0m 10ms/step - accuracy: 0.8525 - loss: 0.8936\n",
            "Epoch 50/100\n",
            "\u001b[1m8/8\u001b[0m \u001b[32m━━━━━━━━━━━━━━━━━━━━\u001b[0m\u001b[37m\u001b[0m \u001b[1m0s\u001b[0m 10ms/step - accuracy: 0.9249 - loss: 0.7812\n",
            "Epoch 51/100\n",
            "\u001b[1m8/8\u001b[0m \u001b[32m━━━━━━━━━━━━━━━━━━━━\u001b[0m\u001b[37m\u001b[0m \u001b[1m0s\u001b[0m 11ms/step - accuracy: 0.9061 - loss: 0.7938\n",
            "Epoch 52/100\n",
            "\u001b[1m8/8\u001b[0m \u001b[32m━━━━━━━━━━━━━━━━━━━━\u001b[0m\u001b[37m\u001b[0m \u001b[1m0s\u001b[0m 9ms/step - accuracy: 0.8836 - loss: 0.7610\n",
            "Epoch 53/100\n",
            "\u001b[1m8/8\u001b[0m \u001b[32m━━━━━━━━━━━━━━━━━━━━\u001b[0m\u001b[37m\u001b[0m \u001b[1m0s\u001b[0m 9ms/step - accuracy: 0.9254 - loss: 0.7190\n",
            "Epoch 54/100\n",
            "\u001b[1m8/8\u001b[0m \u001b[32m━━━━━━━━━━━━━━━━━━━━\u001b[0m\u001b[37m\u001b[0m \u001b[1m0s\u001b[0m 11ms/step - accuracy: 0.9260 - loss: 0.7076\n",
            "Epoch 55/100\n",
            "\u001b[1m8/8\u001b[0m \u001b[32m━━━━━━━━━━━━━━━━━━━━\u001b[0m\u001b[37m\u001b[0m \u001b[1m0s\u001b[0m 10ms/step - accuracy: 0.9504 - loss: 0.6638\n",
            "Epoch 56/100\n",
            "\u001b[1m8/8\u001b[0m \u001b[32m━━━━━━━━━━━━━━━━━━━━\u001b[0m\u001b[37m\u001b[0m \u001b[1m0s\u001b[0m 9ms/step - accuracy: 0.9465 - loss: 0.6366\n",
            "Epoch 57/100\n",
            "\u001b[1m8/8\u001b[0m \u001b[32m━━━━━━━━━━━━━━━━━━━━\u001b[0m\u001b[37m\u001b[0m \u001b[1m0s\u001b[0m 10ms/step - accuracy: 0.9429 - loss: 0.6156\n",
            "Epoch 58/100\n",
            "\u001b[1m8/8\u001b[0m \u001b[32m━━━━━━━━━━━━━━━━━━━━\u001b[0m\u001b[37m\u001b[0m \u001b[1m0s\u001b[0m 10ms/step - accuracy: 0.9425 - loss: 0.6058\n",
            "Epoch 59/100\n",
            "\u001b[1m8/8\u001b[0m \u001b[32m━━━━━━━━━━━━━━━━━━━━\u001b[0m\u001b[37m\u001b[0m \u001b[1m0s\u001b[0m 10ms/step - accuracy: 0.9543 - loss: 0.5735\n",
            "Epoch 60/100\n",
            "\u001b[1m8/8\u001b[0m \u001b[32m━━━━━━━━━━━━━━━━━━━━\u001b[0m\u001b[37m\u001b[0m \u001b[1m0s\u001b[0m 11ms/step - accuracy: 0.9472 - loss: 0.5491\n",
            "Epoch 61/100\n",
            "\u001b[1m8/8\u001b[0m \u001b[32m━━━━━━━━━━━━━━━━━━━━\u001b[0m\u001b[37m\u001b[0m \u001b[1m0s\u001b[0m 11ms/step - accuracy: 0.9661 - loss: 0.5212\n",
            "Epoch 62/100\n",
            "\u001b[1m8/8\u001b[0m \u001b[32m━━━━━━━━━━━━━━━━━━━━\u001b[0m\u001b[37m\u001b[0m \u001b[1m0s\u001b[0m 10ms/step - accuracy: 0.9745 - loss: 0.5087\n",
            "Epoch 63/100\n",
            "\u001b[1m8/8\u001b[0m \u001b[32m━━━━━━━━━━━━━━━━━━━━\u001b[0m\u001b[37m\u001b[0m \u001b[1m0s\u001b[0m 11ms/step - accuracy: 0.9717 - loss: 0.4909\n",
            "Epoch 64/100\n",
            "\u001b[1m8/8\u001b[0m \u001b[32m━━━━━━━━━━━━━━━━━━━━\u001b[0m\u001b[37m\u001b[0m \u001b[1m0s\u001b[0m 11ms/step - accuracy: 0.9716 - loss: 0.4826\n",
            "Epoch 65/100\n",
            "\u001b[1m8/8\u001b[0m \u001b[32m━━━━━━━━━━━━━━━━━━━━\u001b[0m\u001b[37m\u001b[0m \u001b[1m0s\u001b[0m 10ms/step - accuracy: 0.9921 - loss: 0.4335\n",
            "Epoch 66/100\n",
            "\u001b[1m8/8\u001b[0m \u001b[32m━━━━━━━━━━━━━━━━━━━━\u001b[0m\u001b[37m\u001b[0m \u001b[1m0s\u001b[0m 13ms/step - accuracy: 0.9822 - loss: 0.4388\n",
            "Epoch 67/100\n",
            "\u001b[1m8/8\u001b[0m \u001b[32m━━━━━━━━━━━━━━━━━━━━\u001b[0m\u001b[37m\u001b[0m \u001b[1m0s\u001b[0m 13ms/step - accuracy: 0.9904 - loss: 0.4164\n",
            "Epoch 68/100\n",
            "\u001b[1m8/8\u001b[0m \u001b[32m━━━━━━━━━━━━━━━━━━━━\u001b[0m\u001b[37m\u001b[0m \u001b[1m0s\u001b[0m 12ms/step - accuracy: 0.9945 - loss: 0.3979\n",
            "Epoch 69/100\n",
            "\u001b[1m8/8\u001b[0m \u001b[32m━━━━━━━━━━━━━━━━━━━━\u001b[0m\u001b[37m\u001b[0m \u001b[1m0s\u001b[0m 12ms/step - accuracy: 0.9939 - loss: 0.3800\n",
            "Epoch 70/100\n",
            "\u001b[1m8/8\u001b[0m \u001b[32m━━━━━━━━━━━━━━━━━━━━\u001b[0m\u001b[37m\u001b[0m \u001b[1m0s\u001b[0m 12ms/step - accuracy: 0.9686 - loss: 0.4443\n",
            "Epoch 71/100\n",
            "\u001b[1m8/8\u001b[0m \u001b[32m━━━━━━━━━━━━━━━━━━━━\u001b[0m\u001b[37m\u001b[0m \u001b[1m0s\u001b[0m 12ms/step - accuracy: 0.9525 - loss: 0.4619\n",
            "Epoch 72/100\n",
            "\u001b[1m8/8\u001b[0m \u001b[32m━━━━━━━━━━━━━━━━━━━━\u001b[0m\u001b[37m\u001b[0m \u001b[1m0s\u001b[0m 12ms/step - accuracy: 0.9878 - loss: 0.4258\n",
            "Epoch 73/100\n",
            "\u001b[1m8/8\u001b[0m \u001b[32m━━━━━━━━━━━━━━━━━━━━\u001b[0m\u001b[37m\u001b[0m \u001b[1m0s\u001b[0m 12ms/step - accuracy: 0.9872 - loss: 0.3833\n",
            "Epoch 74/100\n",
            "\u001b[1m8/8\u001b[0m \u001b[32m━━━━━━━━━━━━━━━━━━━━\u001b[0m\u001b[37m\u001b[0m \u001b[1m0s\u001b[0m 12ms/step - accuracy: 0.9813 - loss: 0.3961\n",
            "Epoch 75/100\n",
            "\u001b[1m8/8\u001b[0m \u001b[32m━━━━━━━━━━━━━━━━━━━━\u001b[0m\u001b[37m\u001b[0m \u001b[1m0s\u001b[0m 12ms/step - accuracy: 0.9980 - loss: 0.3513\n",
            "Epoch 76/100\n",
            "\u001b[1m8/8\u001b[0m \u001b[32m━━━━━━━━━━━━━━━━━━━━\u001b[0m\u001b[37m\u001b[0m \u001b[1m0s\u001b[0m 12ms/step - accuracy: 0.9933 - loss: 0.3418\n",
            "Epoch 77/100\n",
            "\u001b[1m8/8\u001b[0m \u001b[32m━━━━━━━━━━━━━━━━━━━━\u001b[0m\u001b[37m\u001b[0m \u001b[1m0s\u001b[0m 11ms/step - accuracy: 0.9953 - loss: 0.3112\n",
            "Epoch 78/100\n",
            "\u001b[1m8/8\u001b[0m \u001b[32m━━━━━━━━━━━━━━━━━━━━\u001b[0m\u001b[37m\u001b[0m \u001b[1m0s\u001b[0m 12ms/step - accuracy: 0.9991 - loss: 0.2930\n",
            "Epoch 79/100\n",
            "\u001b[1m8/8\u001b[0m \u001b[32m━━━━━━━━━━━━━━━━━━━━\u001b[0m\u001b[37m\u001b[0m \u001b[1m0s\u001b[0m 12ms/step - accuracy: 1.0000 - loss: 0.2833\n",
            "Epoch 80/100\n",
            "\u001b[1m8/8\u001b[0m \u001b[32m━━━━━━━━━━━━━━━━━━━━\u001b[0m\u001b[37m\u001b[0m \u001b[1m0s\u001b[0m 13ms/step - accuracy: 1.0000 - loss: 0.2598\n",
            "Epoch 81/100\n",
            "\u001b[1m8/8\u001b[0m \u001b[32m━━━━━━━━━━━━━━━━━━━━\u001b[0m\u001b[37m\u001b[0m \u001b[1m0s\u001b[0m 12ms/step - accuracy: 1.0000 - loss: 0.2569\n",
            "Epoch 82/100\n",
            "\u001b[1m8/8\u001b[0m \u001b[32m━━━━━━━━━━━━━━━━━━━━\u001b[0m\u001b[37m\u001b[0m \u001b[1m0s\u001b[0m 11ms/step - accuracy: 1.0000 - loss: 0.2501\n",
            "Epoch 83/100\n",
            "\u001b[1m8/8\u001b[0m \u001b[32m━━━━━━━━━━━━━━━━━━━━\u001b[0m\u001b[37m\u001b[0m \u001b[1m0s\u001b[0m 12ms/step - accuracy: 1.0000 - loss: 0.2398\n",
            "Epoch 84/100\n",
            "\u001b[1m8/8\u001b[0m \u001b[32m━━━━━━━━━━━━━━━━━━━━\u001b[0m\u001b[37m\u001b[0m \u001b[1m0s\u001b[0m 11ms/step - accuracy: 1.0000 - loss: 0.2321\n",
            "Epoch 85/100\n",
            "\u001b[1m8/8\u001b[0m \u001b[32m━━━━━━━━━━━━━━━━━━━━\u001b[0m\u001b[37m\u001b[0m \u001b[1m0s\u001b[0m 15ms/step - accuracy: 1.0000 - loss: 0.2148\n",
            "Epoch 86/100\n",
            "\u001b[1m8/8\u001b[0m \u001b[32m━━━━━━━━━━━━━━━━━━━━\u001b[0m\u001b[37m\u001b[0m \u001b[1m0s\u001b[0m 13ms/step - accuracy: 1.0000 - loss: 0.2109\n",
            "Epoch 87/100\n",
            "\u001b[1m8/8\u001b[0m \u001b[32m━━━━━━━━━━━━━━━━━━━━\u001b[0m\u001b[37m\u001b[0m \u001b[1m0s\u001b[0m 13ms/step - accuracy: 1.0000 - loss: 0.2003\n",
            "Epoch 88/100\n",
            "\u001b[1m8/8\u001b[0m \u001b[32m━━━━━━━━━━━━━━━━━━━━\u001b[0m\u001b[37m\u001b[0m \u001b[1m0s\u001b[0m 12ms/step - accuracy: 1.0000 - loss: 0.2045\n",
            "Epoch 89/100\n",
            "\u001b[1m8/8\u001b[0m \u001b[32m━━━━━━━━━━━━━━━━━━━━\u001b[0m\u001b[37m\u001b[0m \u001b[1m0s\u001b[0m 13ms/step - accuracy: 1.0000 - loss: 0.1983\n",
            "Epoch 90/100\n",
            "\u001b[1m8/8\u001b[0m \u001b[32m━━━━━━━━━━━━━━━━━━━━\u001b[0m\u001b[37m\u001b[0m \u001b[1m0s\u001b[0m 12ms/step - accuracy: 1.0000 - loss: 0.1834\n",
            "Epoch 91/100\n",
            "\u001b[1m8/8\u001b[0m \u001b[32m━━━━━━━━━━━━━━━━━━━━\u001b[0m\u001b[37m\u001b[0m \u001b[1m0s\u001b[0m 14ms/step - accuracy: 1.0000 - loss: 0.1731\n",
            "Epoch 92/100\n",
            "\u001b[1m8/8\u001b[0m \u001b[32m━━━━━━━━━━━━━━━━━━━━\u001b[0m\u001b[37m\u001b[0m \u001b[1m0s\u001b[0m 11ms/step - accuracy: 1.0000 - loss: 0.1708\n",
            "Epoch 93/100\n",
            "\u001b[1m8/8\u001b[0m \u001b[32m━━━━━━━━━━━━━━━━━━━━\u001b[0m\u001b[37m\u001b[0m \u001b[1m0s\u001b[0m 12ms/step - accuracy: 1.0000 - loss: 0.1637\n",
            "Epoch 94/100\n",
            "\u001b[1m8/8\u001b[0m \u001b[32m━━━━━━━━━━━━━━━━━━━━\u001b[0m\u001b[37m\u001b[0m \u001b[1m0s\u001b[0m 11ms/step - accuracy: 1.0000 - loss: 0.1583\n",
            "Epoch 95/100\n",
            "\u001b[1m8/8\u001b[0m \u001b[32m━━━━━━━━━━━━━━━━━━━━\u001b[0m\u001b[37m\u001b[0m \u001b[1m0s\u001b[0m 12ms/step - accuracy: 1.0000 - loss: 0.1558\n",
            "Epoch 96/100\n",
            "\u001b[1m8/8\u001b[0m \u001b[32m━━━━━━━━━━━━━━━━━━━━\u001b[0m\u001b[37m\u001b[0m \u001b[1m0s\u001b[0m 11ms/step - accuracy: 1.0000 - loss: 0.1528\n",
            "Epoch 97/100\n",
            "\u001b[1m8/8\u001b[0m \u001b[32m━━━━━━━━━━━━━━━━━━━━\u001b[0m\u001b[37m\u001b[0m \u001b[1m0s\u001b[0m 12ms/step - accuracy: 1.0000 - loss: 0.1482\n",
            "Epoch 98/100\n",
            "\u001b[1m8/8\u001b[0m \u001b[32m━━━━━━━━━━━━━━━━━━━━\u001b[0m\u001b[37m\u001b[0m \u001b[1m0s\u001b[0m 12ms/step - accuracy: 1.0000 - loss: 0.1453\n",
            "Epoch 99/100\n",
            "\u001b[1m8/8\u001b[0m \u001b[32m━━━━━━━━━━━━━━━━━━━━\u001b[0m\u001b[37m\u001b[0m \u001b[1m0s\u001b[0m 12ms/step - accuracy: 1.0000 - loss: 0.1402\n",
            "Epoch 100/100\n",
            "\u001b[1m8/8\u001b[0m \u001b[32m━━━━━━━━━━━━━━━━━━━━\u001b[0m\u001b[37m\u001b[0m \u001b[1m0s\u001b[0m 11ms/step - accuracy: 1.0000 - loss: 0.1337\n"
          ]
        }
      ],
      "source": [
        "model.compile(loss=\"sparse_categorical_crossentropy\",\n",
        "              optimizer= tf.keras.optimizers.Adam(learning_rate=0.001),\n",
        "              metrics=[\"accuracy\"])\n",
        "\n",
        "y_train = np.array(outputToken)\n",
        "x_train = inputToken.astype(np.int32)\n",
        "y_train = y_train.astype(np.int32)\n",
        "\n",
        "train = model.fit(x_train,y_train,epochs=100, batch_size=32)"
      ]
    },
    {
      "cell_type": "code",
      "execution_count": null,
      "metadata": {
        "colab": {
          "base_uri": "https://localhost:8080/"
        },
        "id": "GpToNX7rNKIU",
        "outputId": "737d474c-ef9c-48d1-a774-83dc17182cb6"
      },
      "outputs": [],
      "source": [
        "def predict_class(text, model, wordIndexInput, maxInput):\n",
        "    tokenizer = Tokenizer()\n",
        "    tokenizer.word_index = wordIndexInput\n",
        "    tokenized_text = tokenizer.texts_to_sequences([text])\n",
        "    padded_text = pad_sequences(tokenized_text, maxlen=maxInput, padding='post')\n",
        "    prediction = model.predict(padded_text)\n",
        "    predicted_class = np.argmax(prediction)\n",
        "    return predicted_class\n",
        "\n",
        "\n",
        "def get_response(predicted_class, responses):\n",
        "    return random.choice(responses[predicted_class])\n",
        "\n",
        "\n",
        "def chatbot():\n",
        "    while True:\n",
        "        inputUser = translator.translate(input(\"User: \"), src=\"id\", dest=\"en\")\n",
        "        user_input = inputUser.text\n",
        "        if user_input.lower() in ['quit', 'exit', 'bye']:\n",
        "            break\n",
        "\n",
        "        predicted_class = predict_class(user_input, model, wordIndexInput, maxInput)\n",
        "\n",
        "        try:\n",
        "            bot_response = get_response(predicted_class, responses)\n",
        "            transRensponse = translator.translate(bot_response, src=\"en\", dest=\"id\")\n",
        "            print(\"Bot:\", transRensponse.text)\n",
        "        except IndexError:\n",
        "            print(\"Bot: I'm sorry, I don't understand.\")\n",
        "\n",
        "chatbot()"
      ]
    }
  ],
  "metadata": {
    "colab": {
      "provenance": []
    },
    "kernelspec": {
      "display_name": "Python 3",
      "name": "python3"
    },
    "language_info": {
      "codemirror_mode": {
        "name": "ipython",
        "version": 3
      },
      "file_extension": ".py",
      "mimetype": "text/x-python",
      "name": "python",
      "nbconvert_exporter": "python",
      "pygments_lexer": "ipython3",
      "version": "3.12.6"
    }
  },
  "nbformat": 4,
  "nbformat_minor": 0
}
